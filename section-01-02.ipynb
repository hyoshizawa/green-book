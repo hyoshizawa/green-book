{
 "cells": [
  {
   "cell_type": "markdown",
   "metadata": {
    "collapsed": true,
    "focus": true,
    "id": "20db5111-e62c-4e85-b990-6e11faf12abd",
    "slideshow": {
     "slide_type": "slide"
    }
   },
   "source": [
    "# 緑本勉強会 #1"
   ]
  },
  {
   "cell_type": "markdown",
   "metadata": {
    "collapsed": true,
    "focus": false,
    "id": "d2e97e2e-0cb9-4560-8a9b-6ed2f27f7e65",
    "slideshow": {
     "slide_type": "slide"
    }
   },
   "source": [
    "## まえおき\n",
    "* 『データ解析のための統計モデリング入門』（久保拓弥）を輪読していきます\n",
    "* 第１回の担当は吉澤です\n",
    "* 今回は第１章と第２章をやります"
   ]
  },
  {
   "cell_type": "markdown",
   "metadata": {
    "slideshow": {
     "slide_type": "slide"
    }
   },
   "source": [
    "## 今日やること\n",
    "- 第１章、第２章 講義\n",
    "- 第３章以降の担当を決める\n",
    "- 次回日程を決める\n",
    "- 連絡手段を決める"
   ]
  },
  {
   "cell_type": "markdown",
   "metadata": {
    "collapsed": true,
    "focus": false,
    "id": "098160a6-afc8-4f01-afd2-73be42dc84f1",
    "slideshow": {
     "slide_type": "slide"
    }
   },
   "source": [
    "### 緑本の概観\n",
    "<img src=\"pic-11.jpg\" width=\"1600\" height=\"1400\">"
   ]
  },
  {
   "cell_type": "markdown",
   "metadata": {
    "slideshow": {
     "slide_type": "slide"
    }
   },
   "source": [
    "### 第１章\n",
    "省略"
   ]
  },
  {
   "cell_type": "markdown",
   "metadata": {
    "slideshow": {
     "slide_type": "fragment"
    }
   },
   "source": [
    "#### すこし補足：p.11, 12より引用、要約\n",
    "* 観測データは自然現象のごく一部を切りとったものであり、そこに見られるパターンを要約したり、<em><font color='red'>未観測の挙動を予測する</font></em>ために統計モデルが必要である\n",
    "* 「<em><font color='red'>ブラックボックスな統計解析</font></em>」が蔓延しがち\n",
    "* データ解析における<em><font color='red'>作図の重要性</font></em>はいくら強調しすぎても、強調しすぎるということはありません"
   ]
  },
  {
   "cell_type": "markdown",
   "metadata": {
    "slideshow": {
     "slide_type": "slide"
    }
   },
   "source": [
    "### 第２章\n",
    "#### 確率分布と統計モデルの最尤推定"
   ]
  },
  {
   "cell_type": "markdown",
   "metadata": {
    "slideshow": {
     "slide_type": "slide"
    }
   },
   "source": [
    "#### やること\n",
    "* 種子データの概要を知る、Pythonで扱う\n",
    "* Poisson分布とは何か、概観を知る\n",
    "* 最尤推定法が何かを知る\n",
    "* 種子データをもとに、最尤推定法を用いてPoisson分布のパラメータを推定する"
   ]
  },
  {
   "cell_type": "markdown",
   "metadata": {
    "slideshow": {
     "slide_type": "slide"
    }
   },
   "source": [
    "### Pythonを使います"
   ]
  },
  {
   "cell_type": "markdown",
   "metadata": {
    "slideshow": {
     "slide_type": "slide"
    }
   },
   "source": [
    "#### ライブラリインポート、データ読み込み"
   ]
  },
  {
   "cell_type": "code",
   "execution_count": 2,
   "metadata": {
    "collapsed": false,
    "slideshow": {
     "slide_type": "subslide"
    }
   },
   "outputs": [
    {
     "name": "stdout",
     "output_type": "stream",
     "text": [
      "ch02_convertedData.csv  \u001b[34mkubobook2012\u001b[m\u001b[m/           pic-11.jpg\r\n",
      "kubo2014nicoFeb.pdf     \u001b[34mothers\u001b[m\u001b[m/                 section-01.ipynb\r\n"
     ]
    }
   ],
   "source": [
    "# ファイルの確認 : 提供されたデータをすべてカレントフォルダの直下に格納済みであることを確認\n",
    "%ls\n",
    "\n",
    "# inlineでプロット\n",
    "%matplotlib inline"
   ]
  },
  {
   "cell_type": "code",
   "execution_count": 3,
   "metadata": {
    "collapsed": false,
    "slideshow": {
     "slide_type": "subslide"
    }
   },
   "outputs": [],
   "source": [
    "# coding: utf-8\n",
    "\n",
    "# ライブラリのインポート\n",
    "import pandas as pd\n",
    "import numpy as np\n",
    "import matplotlib.pyplot as plt\n",
    "import seaborn\n",
    "\n",
    "# 見た目をいい感じにする\n",
    "seaborn.set()\n",
    "\n",
    "# pandasでcsvデータを読み込む\n",
    "sheeds = pd.read_csv('ch02_convertedData.csv', index_col='no');"
   ]
  },
  {
   "cell_type": "markdown",
   "metadata": {
    "slideshow": {
     "slide_type": "slide"
    }
   },
   "source": [
    "#### データの確認"
   ]
  },
  {
   "cell_type": "code",
   "execution_count": 9,
   "metadata": {
    "collapsed": false,
    "slideshow": {
     "slide_type": "subslide"
    }
   },
   "outputs": [
    {
     "name": "stdout",
     "output_type": "stream",
     "text": [
      "50\n",
      "1\n"
     ]
    }
   ],
   "source": [
    "# 中身を確認する\n",
    "print(len(sheeds.index)) # 行\n",
    "print(len(sheeds.columns)) # 列\n",
    "#sheeds #一覧\n",
    "\n",
    "# データ型等\n",
    "#sheeds.info()\n",
    "\n",
    "# 統計量\n",
    "# sheeds.describe()\n",
    "# sheeds.var()  # 分散"
   ]
  },
  {
   "cell_type": "code",
   "execution_count": 10,
   "metadata": {
    "collapsed": false,
    "scrolled": true,
    "slideshow": {
     "slide_type": "subslide"
    }
   },
   "outputs": [
    {
     "data": {
      "text/plain": [
       "array([[<matplotlib.axes._subplots.AxesSubplot object at 0x10f6f3fd0>]], dtype=object)"
      ]
     },
     "execution_count": 10,
     "metadata": {},
     "output_type": "execute_result"
    },
    {
     "data": {
      "image/png": "[encoded data removed]",
      "text/plain": [
       "<matplotlib.figure.Figure at 0x10d1ca240>"
      ]
     },
     "metadata": {},
     "output_type": "display_data"
    },
    {
     "data": {
      "image/png": "[encoded data removed]",
      "text/plain": [
       "<matplotlib.figure.Figure at 0x10d1ca470>"
      ]
     },
     "metadata": {},
     "output_type": "display_data"
    }
   ],
   "source": [
    "# 描画サイズ\n",
    "plt.rcParams['figure.figsize'] = (15, 5)\n",
    "\n",
    "# 描画\n",
    "sheeds.plot(kind='bar') #折れ線\n",
    "sheeds.hist(bins=8) #ヒストグラム"
   ]
  },
  {
   "cell_type": "markdown",
   "metadata": {
    "slideshow": {
     "slide_type": "slide"
    }
   },
   "source": [
    "#### Poisson分布"
   ]
  },
  {
   "cell_type": "markdown",
   "metadata": {
    "slideshow": {
     "slide_type": "subslide"
    }
   },
   "source": [
    "##### Poisson分布を導入する理由\n",
    "種子数データを統計モデルとして表現するためには、とりあえずポアソン分布(Poisson distribution)とよばれる確率分布が便利であるーーということにしておきましょう p.18"
   ]
  },
  {
   "cell_type": "markdown",
   "metadata": {
    "collapsed": true,
    "slideshow": {
     "slide_type": "subslide"
    }
   },
   "source": [
    "##### 特徴\n",
    "- $平均\\lambdaのPoisson分布の確率関数はP\\left( x \\right) = \\frac{{\\lambda ^x{e^{ - \\lambda }}}}{{x!}}で表される。$\n",
    "- $パラメータ \\lambda (\\geq 0)のみで表現できる$\n",
    "- $\\lambda = 平均 = 分散$"
   ]
  },
  {
   "cell_type": "markdown",
   "metadata": {
    "slideshow": {
     "slide_type": "subslide"
    }
   },
   "source": [
    "##### あらためて、Poisson分布を導入する理由\n",
    "- データに含まれている値が非負の整数値（カウントデータ)\n",
    "- データに下限(ゼロ)はあるみたいだけれど上限はよくわからない\n",
    "- この観測データでは平均と分散がだいたい等しい"
   ]
  },
  {
   "cell_type": "code",
   "execution_count": 128,
   "metadata": {
    "collapsed": false,
    "slideshow": {
     "slide_type": "subslide"
    }
   },
   "outputs": [
    {
     "data": {
      "image/png": "[encoded data removed]",
      "text/plain": [
       "<matplotlib.figure.Figure at 0x114688f28>"
      ]
     },
     "metadata": {},
     "output_type": "display_data"
    },
    {
     "data": {
      "image/png": "[encoded data removed]",
      "text/plain": [
       "<matplotlib.figure.Figure at 0x114a770b8>"
      ]
     },
     "metadata": {},
     "output_type": "display_data"
    },
    {
     "data": {
      "image/png": "[encoded data removed]",
      "text/plain": [
       "<matplotlib.figure.Figure at 0x1147aacf8>"
      ]
     },
     "metadata": {},
     "output_type": "display_data"
    },
    {
     "data": {
      "image/png": "[encoded data removed]",
      "text/plain": [
       "<matplotlib.figure.Figure at 0x1152d85f8>"
      ]
     },
     "metadata": {},
     "output_type": "display_data"
    },
    {
     "data": {
      "image/png": "[encoded data removed]",
      "text/plain": [
       "<matplotlib.figure.Figure at 0x115bd8ef0>"
      ]
     },
     "metadata": {},
     "output_type": "display_data"
    },
    {
     "data": {
      "image/png": "[encoded data removed]",
      "text/plain": [
       "<matplotlib.figure.Figure at 0x115d67048>"
      ]
     },
     "metadata": {},
     "output_type": "display_data"
    }
   ],
   "source": [
    "# poisson分布に従った変数をarrayで返す\n",
    "def makeRandomPoissonValue(lmbd, numOfVariables):\n",
    "    return np.random.poisson(lmbd, numOfVariables)\n",
    "\n",
    "# 1,000,000変数を作成してプロットする\n",
    "NUM_OF_VARIABLES = 1000000\n",
    "\n",
    "# プロット上x軸の分割数\n",
    "NUM_OF_BINS = 8\n",
    "\n",
    "# パラメータlambdaを変更しつつ分布をプロット\n",
    "for testedLambda in [1, 3, 3.56, 5, 9, 100]:\n",
    "    pd.DataFrame(makeRandomPoissonValue(testedLambda, NUM_OF_VARIABLES)).hist(bins=NUM_OF_BINS)\n",
    "    \n",
    "#pd.DataFrame(makeRandomPoissonValue(1, NUM_OF_VARIABLES)).hist(bins=NUM_OF_BINS)\n",
    "#pd.DataFrame(makeRandomPoissonValue(3, NUM_OF_VARIABLES)).hist(bins=NUM_OF_BINS)\n",
    "#pd.DataFrame(makeRandomPoissonValue(3.56, NUM_OF_VARIABLES)).hist(bins=NUM_OF_BINS)\n",
    "#pd.DataFrame(makeRandomPoissonValue(5, NUM_OF_VARIABLES)).hist(bins=NUM_OF_BINS)\n",
    "#pd.DataFrame(makeRandomPoissonValue(9, NUM_OF_VARIABLES)).hist(bins=NUM_OF_BINS)\n",
    "#pd.DataFrame(makeRandomPoissonValue(100, NUM_OF_VARIABLES)).hist(bins=NUM_OF_BINS)"
   ]
  },
  {
   "cell_type": "markdown",
   "metadata": {
    "collapsed": true,
    "slideshow": {
     "slide_type": "slide"
    }
   },
   "source": [
    "#### パラメータを推定する"
   ]
  },
  {
   "cell_type": "markdown",
   "metadata": {
    "collapsed": true,
    "slideshow": {
     "slide_type": "subslide"
    }
   },
   "source": [
    "- Poisson分布でモデリングすると決めたので、Poisson分布のパラメータを推定したい\n",
    "- 観測データに基づいて、**<font color='red'>最尤推定法(maximum likelihood estimation)</font>**を用いてパラメータ推定を行う\n",
    "- 最尤推定法は**<font color='red'>尤度</font>**という「あてはまりの良さ」をあらわす統計量を最大にするようなパラメータを探す推定方法\n",
    "- どのような確率分布を使った統計モデルにも適用できる"
   ]
  },
  {
   "cell_type": "markdown",
   "metadata": {
    "slideshow": {
     "slide_type": "subslide"
    }
   },
   "source": [
    "##### 尤度関数\n",
    "$L(\\lambda) = {\\displaystyle \\prod_{i}{P(x_{i}|\\lambda)}}$\n",
    "\n",
    "##### 日本語で説明\n",
    "* パラメータ$\\lambda$を決めた時に、すべての個体$x_{i}$の出現する確率の積\n",
    "* すべての個体が同時に真である（同時に出現する）確率を計算し、それが最大になるようなパラメータを探したいから\n"
   ]
  },
  {
   "cell_type": "markdown",
   "metadata": {
    "slideshow": {
     "slide_type": "subslide"
    }
   },
   "source": [
    "##### 対数尤度関数\n",
    "- でも実際は**<font color='red'>対数尤度関数(log likelihood function)</font>**を用いる\n",
    "- $logL(\\lambda) = {\\displaystyle \\sum_{i}}(y_{i}{log\\lambda}-\\lambda-{\\displaystyle \\sum_{k}^{y_{i}}{logk})}$"
   ]
  },
  {
   "cell_type": "markdown",
   "metadata": {
    "slideshow": {
     "slide_type": "subslide"
    }
   },
   "source": [
    "##### 対数尤度が最大になるパラメータを求める\n",
    "- 対数尤度関数を偏微分する\n",
    "- ${\\displaystyle \\frac{\\partial logL(\\lambda)}{\\partial \\lambda} = \\sum_{i}\\{\\frac{y_{i}}{\\lambda} - 1\\} = \\frac{1}{\\lambda}\\sum_{i}y_{i} - 50}$\n",
    "- これが0になるような$\\lambda$を求めると、$\\lambda = 3.56$。すなわち標本平均に等しい。\n",
    "- このように対数尤度あるいは尤度が最大になるパラメータを**<font color='red'>最尤推定量(maximum likelihood estimator)</font>**という\n",
    "- さらに、今回のように具体的な個体の値を使って評価された値(今回は3.56)を**<font color='red'>最尤推定値(maximum likelihood estimate)</font>**とよぶ"
   ]
  },
  {
   "cell_type": "markdown",
   "metadata": {
    "slideshow": {
     "slide_type": "slide"
    }
   },
   "source": [
    "#### 一般化"
   ]
  },
  {
   "cell_type": "markdown",
   "metadata": {
    "slideshow": {
     "slide_type": "subslide"
    }
   },
   "source": [
    "$\\theta$をパラメータとする確率分布から観測データ$y_{i}$が発生した場合、その確率を$p(y|\\theta)$とすると、尤度は\n",
    "\n",
    "$\\displaystyle {L(\\theta | Y) = \\prod_{i}p(y_{i} | \\theta)}$\n",
    "\n",
    "で、対数尤度は、\n",
    "\n",
    "$\\displaystyle {logL(\\theta|Y) = \\sum_{i}log{p(y_{i}|\\theta)}}$\n",
    "\n",
    "となり、最尤推定とは、この対数尤度を最大にするような$\\hat{\\theta}$を探し出すこと"
   ]
  },
  {
   "cell_type": "markdown",
   "metadata": {
    "slideshow": {
     "slide_type": "slide"
    }
   },
   "source": [
    "#### 対数尤度が最大になるパラメータを強引に求めてみる"
   ]
  },
  {
   "cell_type": "code",
   "execution_count": 11,
   "metadata": {
    "collapsed": false,
    "scrolled": true,
    "slideshow": {
     "slide_type": "subslide"
    }
   },
   "outputs": [
    {
     "name": "stdout",
     "output_type": "stream",
     "text": [
      "繰り返し終了\n",
      "3.56\n",
      "-97.2440029408\n"
     ]
    }
   ],
   "source": [
    "# Lambdaを0.01から10まで、0.01刻みで変化させて対数尤度を計算し、最尤推定量Lambdaと最大対数尤度を返す\n",
    "# 1から1000まで動かし、100で除算して実装する\n",
    "\n",
    "# ループ回数を指定\n",
    "NUM_OF_LOOP = 1000\n",
    "\n",
    "# テストするLambdaを初期化\n",
    "testedLambda = 1\n",
    "\n",
    "# 保存しておく最尤推定量を初期化\n",
    "maxLambda = 0\n",
    "\n",
    "# pandasをarrayにして計算\n",
    "arraySheeds = sheeds.values.flatten()\n",
    "\n",
    "# 結果の保存用データフレーム\n",
    "resultPandasLogLikelihood = pd.DataFrame(index=[0], columns=[\"logLikelihood\"])\n",
    "\n",
    "# Lambdaをインクリメントしつつ評価\n",
    "while testedLambda <= NUM_OF_LOOP:\n",
    "\n",
    "    # 対数尤度を計算\n",
    "    logLikelihood = 0\n",
    "    for sheedIndex in range(0, len(arraySheeds)):\n",
    "        \n",
    "        # log(k)の和を計算\n",
    "        sumLogk = 0\n",
    "        for k in range(1, arraySheeds[sheedIndex]+1):\n",
    "            sumLogk += np.log(k)\n",
    "\n",
    "        # 対数尤度計算\n",
    "        logLikelihood += arraySheeds[sheedIndex] * np.log(testedLambda / 100) - (testedLambda / 100) - sumLogk\n",
    "\n",
    "    # これまでの最大値より大きいか評価して、大きいなら保存している推定量と対数尤度を更新\n",
    "    if testedLambda == 1:\n",
    "        maxLikelihood = logLikelihood\n",
    "        maxLambda = testedLambda\n",
    "    elif maxLikelihood < logLikelihood:\n",
    "        maxLikelihood = logLikelihood\n",
    "        maxLambda = testedLambda\n",
    "\n",
    "    # 結果をデータフレームに保存\n",
    "    temporaryPandasLogLikelihood = pd.DataFrame(index=[testedLambda], columns=[\"logLikelihood\"])\n",
    "    temporaryPandasLogLikelihood[\"logLikelihood\"] = logLikelihood\n",
    "    resultPandasLogLikelihood = pd.concat([resultPandasLogLikelihood, temporaryPandasLogLikelihood])\n",
    "        \n",
    "    # Lambdaをインクリメント\n",
    "    testedLambda += 1\n",
    "\n",
    "print(\"繰り返し終了\")\n",
    "print(maxLambda / 100)\n",
    "print(maxLikelihood)"
   ]
  },
  {
   "cell_type": "code",
   "execution_count": 12,
   "metadata": {
    "collapsed": false,
    "slideshow": {
     "slide_type": "subslide"
    }
   },
   "outputs": [
    {
     "data": {
      "text/plain": [
       "<matplotlib.axes._subplots.AxesSubplot at 0x10feaf710>"
      ]
     },
     "execution_count": 12,
     "metadata": {},
     "output_type": "execute_result"
    },
    {
     "data": {
      "image/png": "[encoded data removed]",
      "text/plain": [
       "<matplotlib.figure.Figure at 0x109d73b00>"
      ]
     },
     "metadata": {},
     "output_type": "display_data"
    }
   ],
   "source": [
    "# 結果を保存したデータフレームを使って対数尤度をプロット\n",
    "plt.rcParams['figure.figsize'] = (15, 5)\n",
    "resultPandasLogLikelihood.plot()"
   ]
  },
  {
   "cell_type": "code",
   "execution_count": 13,
   "metadata": {
    "collapsed": false,
    "slideshow": {
     "slide_type": "skip"
    }
   },
   "outputs": [
    {
     "name": "stdout",
     "output_type": "stream",
     "text": [
      "0.01\n",
      "0.02\n",
      "0.03\n",
      "0.04\n",
      "0.05\n",
      "0.060000000000000005\n",
      "0.07\n",
      "0.08\n",
      "0.09\n",
      "0.09999999999999999\n",
      "0.10999999999999999\n",
      "0.11999999999999998\n",
      "0.12999999999999998\n",
      "0.13999999999999999\n",
      "0.15\n",
      "0.16\n",
      "0.17\n",
      "0.18000000000000002\n",
      "0.19000000000000003\n",
      "0.20000000000000004\n",
      "0.21000000000000005\n",
      "0.22000000000000006\n",
      "0.23000000000000007\n",
      "0.24000000000000007\n",
      "0.25000000000000006\n",
      "0.26000000000000006\n",
      "0.2700000000000001\n",
      "0.2800000000000001\n",
      "0.2900000000000001\n",
      "0.3000000000000001\n",
      "0.3100000000000001\n",
      "0.3200000000000001\n",
      "0.3300000000000001\n",
      "0.34000000000000014\n",
      "0.35000000000000014\n",
      "0.36000000000000015\n",
      "0.37000000000000016\n",
      "0.38000000000000017\n",
      "0.3900000000000002\n",
      "0.4000000000000002\n",
      "0.4100000000000002\n",
      "0.4200000000000002\n",
      "0.4300000000000002\n",
      "0.4400000000000002\n",
      "0.45000000000000023\n",
      "0.46000000000000024\n",
      "0.47000000000000025\n",
      "0.48000000000000026\n",
      "0.49000000000000027\n",
      "0.5000000000000002\n",
      "0.5100000000000002\n",
      "0.5200000000000002\n",
      "0.5300000000000002\n",
      "0.5400000000000003\n",
      "0.5500000000000003\n",
      "0.5600000000000003\n",
      "0.5700000000000003\n",
      "0.5800000000000003\n",
      "0.5900000000000003\n",
      "0.6000000000000003\n",
      "0.6100000000000003\n",
      "0.6200000000000003\n",
      "0.6300000000000003\n",
      "0.6400000000000003\n",
      "0.6500000000000004\n",
      "0.6600000000000004\n",
      "0.6700000000000004\n",
      "0.6800000000000004\n",
      "0.6900000000000004\n",
      "0.7000000000000004\n",
      "0.7100000000000004\n",
      "0.7200000000000004\n",
      "0.7300000000000004\n",
      "0.7400000000000004\n",
      "0.7500000000000004\n",
      "0.7600000000000005\n",
      "0.7700000000000005\n",
      "0.7800000000000005\n",
      "0.7900000000000005\n",
      "0.8000000000000005\n",
      "0.8100000000000005\n",
      "0.8200000000000005\n",
      "0.8300000000000005\n",
      "0.8400000000000005\n",
      "0.8500000000000005\n",
      "0.8600000000000005\n",
      "0.8700000000000006\n",
      "0.8800000000000006\n",
      "0.8900000000000006\n",
      "0.9000000000000006\n",
      "0.9100000000000006\n",
      "0.9200000000000006\n",
      "0.9300000000000006\n",
      "0.9400000000000006\n",
      "0.9500000000000006\n",
      "0.9600000000000006\n",
      "0.9700000000000006\n",
      "0.9800000000000006\n",
      "0.9900000000000007\n",
      "1.0000000000000007\n",
      "1.0100000000000007\n",
      "1.0200000000000007\n",
      "1.0300000000000007\n",
      "1.0400000000000007\n",
      "1.0500000000000007\n",
      "1.0600000000000007\n",
      "1.0700000000000007\n",
      "1.0800000000000007\n",
      "1.0900000000000007\n",
      "1.1000000000000008\n",
      "1.1100000000000008\n",
      "1.1200000000000008\n",
      "1.1300000000000008\n",
      "1.1400000000000008\n",
      "1.1500000000000008\n",
      "1.1600000000000008\n",
      "1.1700000000000008\n",
      "1.1800000000000008\n",
      "1.1900000000000008\n",
      "1.2000000000000008\n",
      "1.2100000000000009\n",
      "1.2200000000000009\n",
      "1.2300000000000009\n",
      "1.2400000000000009\n",
      "1.2500000000000009\n",
      "1.260000000000001\n",
      "1.270000000000001\n",
      "1.280000000000001\n",
      "1.290000000000001\n",
      "1.300000000000001\n",
      "1.310000000000001\n",
      "1.320000000000001\n",
      "1.330000000000001\n",
      "1.340000000000001\n",
      "1.350000000000001\n",
      "1.360000000000001\n",
      "1.370000000000001\n",
      "1.380000000000001\n",
      "1.390000000000001\n",
      "1.400000000000001\n",
      "1.410000000000001\n",
      "1.420000000000001\n",
      "1.430000000000001\n",
      "1.440000000000001\n",
      "1.450000000000001\n",
      "1.460000000000001\n",
      "1.470000000000001\n",
      "1.480000000000001\n",
      "1.490000000000001\n",
      "1.500000000000001\n",
      "1.5100000000000011\n",
      "1.5200000000000011\n",
      "1.5300000000000011\n",
      "1.5400000000000011\n",
      "1.5500000000000012\n",
      "1.5600000000000012\n",
      "1.5700000000000012\n",
      "1.5800000000000012\n",
      "1.5900000000000012\n",
      "1.6000000000000012\n",
      "1.6100000000000012\n",
      "1.6200000000000012\n",
      "1.6300000000000012\n",
      "1.6400000000000012\n",
      "1.6500000000000012\n",
      "1.6600000000000013\n",
      "1.6700000000000013\n",
      "1.6800000000000013\n",
      "1.6900000000000013\n",
      "1.7000000000000013\n",
      "1.7100000000000013\n",
      "1.7200000000000013\n",
      "1.7300000000000013\n",
      "1.7400000000000013\n",
      "1.7500000000000013\n",
      "1.7600000000000013\n",
      "1.7700000000000014\n",
      "1.7800000000000014\n",
      "1.7900000000000014\n",
      "1.8000000000000014\n",
      "1.8100000000000014\n",
      "1.8200000000000014\n",
      "1.8300000000000014\n",
      "1.8400000000000014\n",
      "1.8500000000000014\n",
      "1.8600000000000014\n",
      "1.8700000000000014\n",
      "1.8800000000000014\n",
      "1.8900000000000015\n",
      "1.9000000000000015\n",
      "1.9100000000000015\n",
      "1.9200000000000015\n",
      "1.9300000000000015\n",
      "1.9400000000000015\n",
      "1.9500000000000015\n",
      "1.9600000000000015\n",
      "1.9700000000000015\n",
      "1.9800000000000015\n",
      "1.9900000000000015\n",
      "2.0000000000000013\n",
      "2.010000000000001\n",
      "2.020000000000001\n",
      "2.0300000000000007\n",
      "2.0400000000000005\n",
      "2.0500000000000003\n",
      "2.06\n",
      "2.07\n",
      "2.0799999999999996\n",
      "2.0899999999999994\n",
      "2.099999999999999\n",
      "2.109999999999999\n",
      "2.1199999999999988\n",
      "2.1299999999999986\n",
      "2.1399999999999983\n",
      "2.149999999999998\n",
      "2.159999999999998\n",
      "2.1699999999999977\n",
      "2.1799999999999975\n",
      "2.1899999999999973\n",
      "2.199999999999997\n",
      "2.209999999999997\n",
      "2.2199999999999966\n",
      "2.2299999999999964\n",
      "2.239999999999996\n",
      "2.249999999999996\n",
      "2.259999999999996\n",
      "2.2699999999999956\n",
      "2.2799999999999954\n",
      "2.289999999999995\n",
      "2.299999999999995\n",
      "2.3099999999999947\n",
      "2.3199999999999945\n",
      "2.3299999999999943\n",
      "2.339999999999994\n",
      "2.349999999999994\n",
      "2.3599999999999937\n",
      "2.3699999999999934\n",
      "2.3799999999999932\n",
      "2.389999999999993\n",
      "2.399999999999993\n",
      "2.4099999999999926\n",
      "2.4199999999999924\n",
      "2.429999999999992\n",
      "2.439999999999992\n",
      "2.4499999999999917\n",
      "2.4599999999999915\n",
      "2.4699999999999913\n",
      "2.479999999999991\n",
      "2.489999999999991\n",
      "2.4999999999999907\n",
      "2.5099999999999905\n",
      "2.5199999999999902\n",
      "2.52999999999999\n",
      "2.53999999999999\n",
      "2.5499999999999896\n",
      "2.5599999999999894\n",
      "2.569999999999989\n",
      "2.579999999999989\n",
      "2.5899999999999888\n",
      "2.5999999999999885\n",
      "2.6099999999999883\n",
      "2.619999999999988\n",
      "2.629999999999988\n",
      "2.6399999999999877\n",
      "2.6499999999999875\n",
      "2.6599999999999873\n",
      "2.669999999999987\n",
      "2.679999999999987\n",
      "2.6899999999999866\n",
      "2.6999999999999864\n",
      "2.709999999999986\n",
      "2.719999999999986\n",
      "2.7299999999999858\n",
      "2.7399999999999856\n",
      "2.7499999999999853\n",
      "2.759999999999985\n",
      "2.769999999999985\n",
      "2.7799999999999847\n",
      "2.7899999999999845\n",
      "2.7999999999999843\n",
      "2.809999999999984\n",
      "2.819999999999984\n",
      "2.8299999999999836\n",
      "2.8399999999999834\n",
      "2.849999999999983\n",
      "2.859999999999983\n",
      "2.869999999999983\n",
      "2.8799999999999826\n",
      "2.8899999999999824\n",
      "2.899999999999982\n",
      "2.909999999999982\n",
      "2.9199999999999817\n",
      "2.9299999999999815\n",
      "2.9399999999999813\n",
      "2.949999999999981\n",
      "2.959999999999981\n",
      "2.9699999999999807\n",
      "2.9799999999999804\n",
      "2.9899999999999802\n",
      "2.99999999999998\n",
      "3.00999999999998\n",
      "3.0199999999999796\n",
      "3.0299999999999794\n",
      "3.039999999999979\n",
      "3.049999999999979\n",
      "3.0599999999999787\n",
      "3.0699999999999785\n",
      "3.0799999999999783\n",
      "3.089999999999978\n",
      "3.099999999999978\n",
      "3.1099999999999777\n",
      "3.1199999999999775\n",
      "3.1299999999999772\n",
      "3.139999999999977\n",
      "3.149999999999977\n",
      "3.1599999999999766\n",
      "3.1699999999999764\n",
      "3.179999999999976\n",
      "3.189999999999976\n",
      "3.1999999999999758\n",
      "3.2099999999999755\n",
      "3.2199999999999753\n",
      "3.229999999999975\n",
      "3.239999999999975\n",
      "3.2499999999999747\n",
      "3.2599999999999745\n",
      "3.2699999999999743\n",
      "3.279999999999974\n",
      "3.289999999999974\n",
      "3.2999999999999736\n",
      "3.3099999999999734\n",
      "3.319999999999973\n",
      "3.329999999999973\n",
      "3.3399999999999728\n",
      "3.3499999999999726\n",
      "3.3599999999999723\n",
      "3.369999999999972\n",
      "3.379999999999972\n",
      "3.3899999999999717\n",
      "3.3999999999999715\n",
      "3.4099999999999713\n",
      "3.419999999999971\n",
      "3.429999999999971\n",
      "3.4399999999999706\n",
      "3.4499999999999704\n",
      "3.45999999999997\n",
      "3.46999999999997\n",
      "3.47999999999997\n",
      "3.4899999999999696\n",
      "3.4999999999999694\n",
      "3.509999999999969\n",
      "3.519999999999969\n",
      "3.5299999999999687\n",
      "3.5399999999999685\n",
      "3.5499999999999683\n",
      "3.559999999999968\n",
      "3.569999999999968\n",
      "3.5799999999999677\n",
      "3.5899999999999674\n",
      "3.5999999999999672\n",
      "3.609999999999967\n",
      "3.619999999999967\n",
      "3.6299999999999666\n",
      "3.6399999999999664\n",
      "3.649999999999966\n",
      "3.659999999999966\n",
      "3.6699999999999657\n",
      "3.6799999999999655\n",
      "3.6899999999999653\n",
      "3.699999999999965\n",
      "3.709999999999965\n",
      "3.7199999999999647\n",
      "3.7299999999999645\n",
      "3.7399999999999642\n",
      "3.749999999999964\n",
      "3.759999999999964\n",
      "3.7699999999999636\n",
      "3.7799999999999634\n",
      "3.789999999999963\n",
      "3.799999999999963\n",
      "3.8099999999999627\n",
      "3.8199999999999625\n",
      "3.8299999999999623\n",
      "3.839999999999962\n",
      "3.849999999999962\n",
      "3.8599999999999617\n",
      "3.8699999999999615\n",
      "3.8799999999999613\n",
      "3.889999999999961\n",
      "3.899999999999961\n",
      "3.9099999999999606\n",
      "3.9199999999999604\n",
      "3.92999999999996\n",
      "3.93999999999996\n",
      "3.9499999999999598\n",
      "3.9599999999999596\n",
      "3.9699999999999593\n",
      "3.979999999999959\n",
      "3.989999999999959\n",
      "3.9999999999999587\n",
      "4.009999999999959\n",
      "4.019999999999959\n",
      "4.0299999999999585\n",
      "4.039999999999958\n",
      "4.049999999999958\n",
      "4.059999999999958\n",
      "4.069999999999958\n",
      "4.079999999999957\n",
      "4.089999999999957\n",
      "4.099999999999957\n",
      "4.109999999999957\n",
      "4.119999999999957\n",
      "4.129999999999956\n",
      "4.139999999999956\n",
      "4.149999999999956\n",
      "4.159999999999956\n",
      "4.1699999999999555\n",
      "4.179999999999955\n",
      "4.189999999999955\n",
      "4.199999999999955\n",
      "4.209999999999955\n",
      "4.2199999999999545\n",
      "4.229999999999954\n",
      "4.239999999999954\n",
      "4.249999999999954\n",
      "4.259999999999954\n",
      "4.269999999999953\n",
      "4.279999999999953\n",
      "4.289999999999953\n",
      "4.299999999999953\n",
      "4.3099999999999525\n",
      "4.319999999999952\n",
      "4.329999999999952\n",
      "4.339999999999952\n",
      "4.349999999999952\n",
      "4.3599999999999515\n",
      "4.369999999999951\n",
      "4.379999999999951\n",
      "4.389999999999951\n",
      "4.399999999999951\n",
      "4.40999999999995\n",
      "4.41999999999995\n",
      "4.42999999999995\n",
      "4.43999999999995\n",
      "4.4499999999999496\n",
      "4.459999999999949\n",
      "4.469999999999949\n",
      "4.479999999999949\n",
      "4.489999999999949\n",
      "4.4999999999999485\n",
      "4.509999999999948\n",
      "4.519999999999948\n",
      "4.529999999999948\n",
      "4.539999999999948\n",
      "4.549999999999947\n",
      "4.559999999999947\n",
      "4.569999999999947\n",
      "4.579999999999947\n",
      "4.589999999999947\n",
      "4.599999999999946\n",
      "4.609999999999946\n",
      "4.619999999999946\n",
      "4.629999999999946\n",
      "4.6399999999999455\n",
      "4.649999999999945\n",
      "4.659999999999945\n",
      "4.669999999999945\n",
      "4.679999999999945\n",
      "4.689999999999944\n",
      "4.699999999999944\n",
      "4.709999999999944\n",
      "4.719999999999944\n",
      "4.729999999999944\n",
      "4.739999999999943\n",
      "4.749999999999943\n",
      "4.759999999999943\n",
      "4.769999999999943\n",
      "4.7799999999999425\n",
      "4.789999999999942\n",
      "4.799999999999942\n",
      "4.809999999999942\n",
      "4.819999999999942\n",
      "4.8299999999999415\n",
      "4.839999999999941\n",
      "4.849999999999941\n",
      "4.859999999999941\n",
      "4.869999999999941\n",
      "4.87999999999994\n",
      "4.88999999999994\n",
      "4.89999999999994\n",
      "4.90999999999994\n",
      "4.9199999999999395\n",
      "4.929999999999939\n",
      "4.939999999999939\n",
      "4.949999999999939\n",
      "4.959999999999939\n",
      "4.9699999999999385\n",
      "4.979999999999938\n",
      "4.989999999999938\n",
      "4.999999999999938\n",
      "5.009999999999938\n",
      "5.019999999999937\n",
      "5.029999999999937\n",
      "5.039999999999937\n",
      "5.049999999999937\n",
      "5.0599999999999365\n",
      "5.069999999999936\n",
      "5.079999999999936\n",
      "5.089999999999936\n",
      "5.099999999999936\n",
      "5.1099999999999355\n",
      "5.119999999999935\n",
      "5.129999999999935\n",
      "5.139999999999935\n",
      "5.149999999999935\n",
      "5.159999999999934\n",
      "5.169999999999934\n",
      "5.179999999999934\n",
      "5.189999999999934\n",
      "5.199999999999934\n",
      "5.209999999999933\n",
      "5.219999999999933\n",
      "5.229999999999933\n",
      "5.239999999999933\n",
      "5.2499999999999325\n",
      "5.259999999999932\n",
      "5.269999999999932\n",
      "5.279999999999932\n",
      "5.289999999999932\n",
      "5.299999999999931\n",
      "5.309999999999931\n",
      "5.319999999999931\n",
      "5.329999999999931\n",
      "5.339999999999931\n",
      "5.34999999999993\n",
      "5.35999999999993\n",
      "5.36999999999993\n",
      "5.37999999999993\n",
      "5.3899999999999295\n",
      "5.399999999999929\n",
      "5.409999999999929\n",
      "5.419999999999929\n",
      "5.429999999999929\n",
      "5.4399999999999284\n",
      "5.449999999999928\n",
      "5.459999999999928\n",
      "5.469999999999928\n",
      "5.479999999999928\n",
      "5.489999999999927\n",
      "5.499999999999927\n",
      "5.509999999999927\n",
      "5.519999999999927\n",
      "5.5299999999999265\n",
      "5.539999999999926\n",
      "5.549999999999926\n",
      "5.559999999999926\n",
      "5.569999999999926\n",
      "5.5799999999999255\n",
      "5.589999999999925\n",
      "5.599999999999925\n",
      "5.609999999999925\n",
      "5.619999999999925\n",
      "5.629999999999924\n",
      "5.639999999999924\n",
      "5.649999999999924\n",
      "5.659999999999924\n",
      "5.6699999999999235\n",
      "5.679999999999923\n",
      "5.689999999999923\n",
      "5.699999999999923\n",
      "5.709999999999923\n",
      "5.7199999999999225\n",
      "5.729999999999922\n",
      "5.739999999999922\n",
      "5.749999999999922\n",
      "5.759999999999922\n",
      "5.769999999999921\n",
      "5.779999999999921\n",
      "5.789999999999921\n",
      "5.799999999999921\n",
      "5.809999999999921\n",
      "5.81999999999992\n",
      "5.82999999999992\n",
      "5.83999999999992\n",
      "5.84999999999992\n",
      "5.8599999999999195\n",
      "5.869999999999919\n",
      "5.879999999999919\n",
      "5.889999999999919\n",
      "5.899999999999919\n",
      "5.909999999999918\n",
      "5.919999999999918\n",
      "5.929999999999918\n",
      "5.939999999999918\n",
      "5.949999999999918\n",
      "5.959999999999917\n",
      "5.969999999999917\n",
      "5.979999999999917\n",
      "5.989999999999917\n",
      "5.9999999999999165\n",
      "6.009999999999916\n",
      "6.019999999999916\n",
      "6.029999999999916\n",
      "6.039999999999916\n",
      "6.0499999999999154\n",
      "6.059999999999915\n",
      "6.069999999999915\n",
      "6.079999999999915\n",
      "6.089999999999915\n",
      "6.099999999999914\n",
      "6.109999999999914\n",
      "6.119999999999914\n",
      "6.129999999999914\n",
      "6.1399999999999135\n",
      "6.149999999999913\n",
      "6.159999999999913\n",
      "6.169999999999913\n",
      "6.179999999999913\n",
      "6.1899999999999125\n",
      "6.199999999999912\n",
      "6.209999999999912\n",
      "6.219999999999912\n",
      "6.229999999999912\n",
      "6.239999999999911\n",
      "6.249999999999911\n",
      "6.259999999999911\n",
      "6.269999999999911\n",
      "6.2799999999999105\n",
      "6.28999999999991\n",
      "6.29999999999991\n",
      "6.30999999999991\n",
      "6.31999999999991\n",
      "6.3299999999999095\n",
      "6.339999999999909\n",
      "6.349999999999909\n",
      "6.359999999999909\n",
      "6.369999999999909\n",
      "6.379999999999908\n",
      "6.389999999999908\n",
      "6.399999999999908\n",
      "6.409999999999908\n",
      "6.419999999999908\n",
      "6.429999999999907\n",
      "6.439999999999907\n",
      "6.449999999999907\n",
      "6.459999999999907\n",
      "6.4699999999999065\n",
      "6.479999999999906\n",
      "6.489999999999906\n",
      "6.499999999999906\n",
      "6.509999999999906\n",
      "6.519999999999905\n",
      "6.529999999999905\n",
      "6.539999999999905\n",
      "6.549999999999905\n",
      "6.559999999999905\n",
      "6.569999999999904\n",
      "6.579999999999904\n",
      "6.589999999999904\n",
      "6.599999999999904\n",
      "6.6099999999999035\n",
      "6.619999999999903\n",
      "6.629999999999903\n",
      "6.639999999999903\n",
      "6.649999999999903\n",
      "6.659999999999902\n",
      "6.669999999999902\n",
      "6.679999999999902\n",
      "6.689999999999902\n",
      "6.699999999999902\n",
      "6.709999999999901\n",
      "6.719999999999901\n",
      "6.729999999999901\n",
      "6.739999999999901\n",
      "6.7499999999999005\n",
      "6.7599999999999\n",
      "6.7699999999999\n",
      "6.7799999999999\n",
      "6.7899999999999\n",
      "6.7999999999998995\n",
      "6.809999999999899\n",
      "6.819999999999899\n",
      "6.829999999999899\n",
      "6.839999999999899\n",
      "6.849999999999898\n",
      "6.859999999999898\n",
      "6.869999999999898\n",
      "6.879999999999898\n",
      "6.8899999999998975\n",
      "6.899999999999897\n",
      "6.909999999999897\n",
      "6.919999999999897\n",
      "6.929999999999897\n",
      "6.9399999999998965\n",
      "6.949999999999896\n",
      "6.959999999999896\n",
      "6.969999999999896\n",
      "6.979999999999896\n",
      "6.989999999999895\n",
      "6.999999999999895\n",
      "7.009999999999895\n",
      "7.019999999999895\n",
      "7.0299999999998946\n",
      "7.039999999999894\n",
      "7.049999999999894\n",
      "7.059999999999894\n",
      "7.069999999999894\n",
      "7.0799999999998935\n",
      "7.089999999999893\n",
      "7.099999999999893\n",
      "7.109999999999893\n",
      "7.119999999999893\n",
      "7.129999999999892\n",
      "7.139999999999892\n",
      "7.149999999999892\n",
      "7.159999999999892\n",
      "7.169999999999892\n",
      "7.179999999999891\n",
      "7.189999999999891\n",
      "7.199999999999891\n",
      "7.209999999999891\n",
      "7.2199999999998905\n",
      "7.22999999999989\n",
      "7.23999999999989\n",
      "7.24999999999989\n",
      "7.25999999999989\n",
      "7.269999999999889\n",
      "7.279999999999889\n",
      "7.289999999999889\n",
      "7.299999999999889\n",
      "7.309999999999889\n",
      "7.319999999999888\n",
      "7.329999999999888\n",
      "7.339999999999888\n",
      "7.349999999999888\n",
      "7.3599999999998875\n",
      "7.369999999999887\n",
      "7.379999999999887\n",
      "7.389999999999887\n",
      "7.399999999999887\n",
      "7.4099999999998865\n",
      "7.419999999999886\n",
      "7.429999999999886\n",
      "7.439999999999886\n",
      "7.449999999999886\n",
      "7.459999999999885\n",
      "7.469999999999885\n",
      "7.479999999999885\n",
      "7.489999999999885\n",
      "7.4999999999998845\n",
      "7.509999999999884\n",
      "7.519999999999884\n",
      "7.529999999999884\n",
      "7.539999999999884\n",
      "7.5499999999998835\n",
      "7.559999999999883\n",
      "7.569999999999883\n",
      "7.579999999999883\n",
      "7.589999999999883\n",
      "7.599999999999882\n",
      "7.609999999999882\n",
      "7.619999999999882\n",
      "7.629999999999882\n",
      "7.6399999999998816\n",
      "7.649999999999881\n",
      "7.659999999999881\n",
      "7.669999999999881\n",
      "7.679999999999881\n",
      "7.6899999999998805\n",
      "7.69999999999988\n",
      "7.70999999999988\n",
      "7.71999999999988\n",
      "7.72999999999988\n",
      "7.739999999999879\n",
      "7.749999999999879\n",
      "7.759999999999879\n",
      "7.769999999999879\n",
      "7.779999999999879\n",
      "7.789999999999878\n",
      "7.799999999999878\n",
      "7.809999999999878\n",
      "7.819999999999878\n",
      "7.8299999999998775\n",
      "7.839999999999877\n",
      "7.849999999999877\n",
      "7.859999999999877\n",
      "7.869999999999877\n",
      "7.879999999999876\n",
      "7.889999999999876\n",
      "7.899999999999876\n",
      "7.909999999999876\n",
      "7.919999999999876\n",
      "7.929999999999875\n",
      "7.939999999999875\n",
      "7.949999999999875\n",
      "7.959999999999875\n",
      "7.9699999999998745\n",
      "7.979999999999874\n",
      "7.989999999999874\n",
      "7.999999999999874\n",
      "8.009999999999874\n",
      "8.019999999999873\n",
      "8.029999999999873\n",
      "8.039999999999873\n",
      "8.049999999999873\n",
      "8.059999999999873\n",
      "8.069999999999872\n",
      "8.079999999999872\n",
      "8.089999999999872\n",
      "8.099999999999872\n",
      "8.109999999999872\n",
      "8.119999999999871\n",
      "8.129999999999871\n",
      "8.139999999999871\n",
      "8.14999999999987\n",
      "8.15999999999987\n",
      "8.16999999999987\n",
      "8.17999999999987\n",
      "8.18999999999987\n",
      "8.19999999999987\n",
      "8.20999999999987\n",
      "8.21999999999987\n",
      "8.229999999999869\n",
      "8.239999999999869\n",
      "8.249999999999869\n",
      "8.259999999999868\n",
      "8.269999999999868\n",
      "8.279999999999868\n",
      "8.289999999999868\n",
      "8.299999999999867\n",
      "8.309999999999867\n",
      "8.319999999999867\n",
      "8.329999999999867\n",
      "8.339999999999867\n",
      "8.349999999999866\n",
      "8.359999999999866\n",
      "8.369999999999866\n",
      "8.379999999999866\n",
      "8.389999999999866\n",
      "8.399999999999865\n",
      "8.409999999999865\n",
      "8.419999999999865\n",
      "8.429999999999865\n",
      "8.439999999999864\n",
      "8.449999999999864\n",
      "8.459999999999864\n",
      "8.469999999999864\n",
      "8.479999999999864\n",
      "8.489999999999863\n",
      "8.499999999999863\n",
      "8.509999999999863\n",
      "8.519999999999863\n",
      "8.529999999999863\n",
      "8.539999999999862\n",
      "8.549999999999862\n",
      "8.559999999999862\n",
      "8.569999999999862\n",
      "8.579999999999862\n",
      "8.589999999999861\n",
      "8.599999999999861\n",
      "8.60999999999986\n",
      "8.61999999999986\n",
      "8.62999999999986\n",
      "8.63999999999986\n",
      "8.64999999999986\n",
      "8.65999999999986\n",
      "8.66999999999986\n",
      "8.67999999999986\n",
      "8.68999999999986\n",
      "8.699999999999859\n",
      "8.709999999999859\n",
      "8.719999999999859\n",
      "8.729999999999858\n",
      "8.739999999999858\n",
      "8.749999999999858\n",
      "8.759999999999858\n",
      "8.769999999999857\n",
      "8.779999999999857\n",
      "8.789999999999857\n",
      "8.799999999999857\n",
      "8.809999999999857\n",
      "8.819999999999856\n",
      "8.829999999999856\n",
      "8.839999999999856\n",
      "8.849999999999856\n",
      "8.859999999999856\n",
      "8.869999999999855\n",
      "8.879999999999855\n",
      "8.889999999999855\n",
      "8.899999999999855\n",
      "8.909999999999854\n",
      "8.919999999999854\n",
      "8.929999999999854\n",
      "8.939999999999854\n",
      "8.949999999999854\n",
      "8.959999999999853\n",
      "8.969999999999853\n",
      "8.979999999999853\n",
      "8.989999999999853\n",
      "8.999999999999853\n",
      "9.009999999999852\n",
      "9.019999999999852\n",
      "9.029999999999852\n",
      "9.039999999999852\n",
      "9.049999999999851\n",
      "9.059999999999851\n",
      "9.069999999999851\n",
      "9.07999999999985\n",
      "9.08999999999985\n",
      "9.09999999999985\n",
      "9.10999999999985\n",
      "9.11999999999985\n",
      "9.12999999999985\n",
      "9.13999999999985\n",
      "9.14999999999985\n",
      "9.15999999999985\n",
      "9.169999999999849\n",
      "9.179999999999849\n",
      "9.189999999999849\n",
      "9.199999999999848\n",
      "9.209999999999848\n",
      "9.219999999999848\n",
      "9.229999999999848\n",
      "9.239999999999847\n",
      "9.249999999999847\n",
      "9.259999999999847\n",
      "9.269999999999847\n",
      "9.279999999999847\n",
      "9.289999999999846\n",
      "9.299999999999846\n",
      "9.309999999999846\n",
      "9.319999999999846\n",
      "9.329999999999846\n",
      "9.339999999999845\n",
      "9.349999999999845\n",
      "9.359999999999845\n",
      "9.369999999999845\n",
      "9.379999999999844\n",
      "9.389999999999844\n",
      "9.399999999999844\n",
      "9.409999999999844\n",
      "9.419999999999844\n",
      "9.429999999999843\n",
      "9.439999999999843\n",
      "9.449999999999843\n",
      "9.459999999999843\n",
      "9.469999999999843\n",
      "9.479999999999842\n",
      "9.489999999999842\n",
      "9.499999999999842\n",
      "9.509999999999842\n",
      "9.519999999999841\n",
      "9.529999999999841\n",
      "9.539999999999841\n",
      "9.54999999999984\n",
      "9.55999999999984\n",
      "9.56999999999984\n",
      "9.57999999999984\n",
      "9.58999999999984\n",
      "9.59999999999984\n",
      "9.60999999999984\n",
      "9.61999999999984\n",
      "9.62999999999984\n",
      "9.639999999999839\n",
      "9.649999999999839\n",
      "9.659999999999838\n",
      "9.669999999999838\n",
      "9.679999999999838\n",
      "9.689999999999838\n",
      "9.699999999999838\n",
      "9.709999999999837\n",
      "9.719999999999837\n",
      "9.729999999999837\n",
      "9.739999999999837\n",
      "9.749999999999837\n",
      "9.759999999999836\n",
      "9.769999999999836\n",
      "9.779999999999836\n",
      "9.789999999999836\n",
      "9.799999999999836\n",
      "9.809999999999835\n",
      "9.819999999999835\n",
      "9.829999999999835\n",
      "9.839999999999835\n",
      "9.849999999999834\n",
      "9.859999999999834\n",
      "9.869999999999834\n",
      "9.879999999999834\n",
      "9.889999999999834\n",
      "9.899999999999833\n",
      "9.909999999999833\n",
      "9.919999999999833\n",
      "9.929999999999833\n",
      "9.939999999999833\n",
      "9.949999999999832\n",
      "9.959999999999832\n",
      "9.969999999999832\n",
      "9.979999999999832\n",
      "9.989999999999831\n",
      "9.999999999999831\n"
     ]
    }
   ],
   "source": [
    "# おまけ：うまくいかない例\n",
    "testedLambda = 0.01\n",
    "\n",
    "while testedLambda < 10:\n",
    "    # Lambdaの値を出力\n",
    "    print(testedLambda)\n",
    "    \n",
    "    # Lambdaをインクリメント\n",
    "    testedLambda += 0.01"
   ]
  },
  {
   "cell_type": "markdown",
   "metadata": {
    "slideshow": {
     "slide_type": "slide"
    }
   },
   "source": [
    "参考資料\n",
    "* 久保先生のWEBサイト：http://hosho.ees.hokudai.ac.jp/~kubo/ce/IwanamiBook.html\n",
    "* pandas：http://pandas.pydata.org/pandas-docs/stable/api.html\n",
    "* pandasを用いた基礎分析：http://blog.brainpad.co.jp/entry/2014/12/10/204111\n",
    "* jupyter：https://jupyter.org/\n",
    "* wakari.io：https://wakari.io/"
   ]
  },
  {
   "cell_type": "markdown",
   "metadata": {
    "slideshow": {
     "slide_type": "slide"
    }
   },
   "source": [
    "## 次回日程　＆　担当決め\n",
    "- 第3章 一般化線形モデル(GLM)\n",
    "- 第４章 GLMのモデル選択\n",
    "- 第5章 GLMの尤度比検定と検定の非対称性\n",
    "- 第6章 GLMの応用範囲をひろげる\n",
    "- 第7章 一般化線形混合モデル(GLMM)\n",
    "- 第8章 マルコフ連鎖モンテカルロ(MCMC)法とベイズ統計モデル\n",
    "- 第9章 GLMのベイズモデル化と事後分布の推定\n",
    "- 第10章 階層ベイズモデル\n",
    "- 第11章 空間構造のある階層ベイズモデル"
   ]
  },
  {
   "cell_type": "markdown",
   "metadata": {
    "slideshow": {
     "slide_type": "slide"
    }
   },
   "source": [
    "## 資料共有\n",
    "- ブログを作成( -> http://bridge-labo.weebly.com ) もしくは GitHubのリポジトリ"
   ]
  },
  {
   "cell_type": "markdown",
   "metadata": {
    "slideshow": {
     "slide_type": "slide"
    }
   },
   "source": [
    "## 連絡手段決め"
   ]
  },
  {
   "cell_type": "markdown",
   "metadata": {
    "slideshow": {
     "slide_type": "slide"
    }
   },
   "source": [
    "おしまい"
   ]
  }
 ],
 "metadata": {
  "celltoolbar": "Slideshow",
  "kernelspec": {
   "display_name": "Python 3",
   "language": "python",
   "name": "python3"
  },
  "language_info": {
   "codemirror_mode": {
    "name": "ipython",
    "version": 3
   },
   "file_extension": ".py",
   "mimetype": "text/x-python",
   "name": "python",
   "nbconvert_exporter": "python",
   "pygments_lexer": "ipython3",
   "version": "3.4.4"
  }
 },
 "nbformat": 4,
 "nbformat_minor": 0
}
